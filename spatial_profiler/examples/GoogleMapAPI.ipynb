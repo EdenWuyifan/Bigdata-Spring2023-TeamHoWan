{
 "cells": [
  {
   "cell_type": "markdown",
   "id": "a5549be8-8aee-4951-88b2-afe5c1351db0",
   "metadata": {},
   "source": [
    "# Google Map"
   ]
  },
  {
   "cell_type": "code",
   "execution_count": 1,
   "id": "c261e2aa-2283-421c-b99f-7e6264477641",
   "metadata": {
    "tags": []
   },
   "outputs": [],
   "source": [
    "import googlemaps\n",
    "from datetime import datetime\n",
    "\n",
    "gmaps = googlemaps.Client(key=os.getenv(\"THW_GEO_KEY\"))"
   ]
  },
  {
   "cell_type": "code",
   "execution_count": 2,
   "id": "7186bb1a-5637-479d-ab04-803a33ceae62",
   "metadata": {
    "tags": []
   },
   "outputs": [],
   "source": [
    "# Geocoding an address\n",
    "geocode_result = gmaps.geocode('NAD83,Nitrogen dioxide (NO2),1 HOUR,NO2 1-hour,Parts per billion,None,14.125,INSTRUMENTAL - CHEMILUMINESCENCE,Cottonwood,Utah,Salt Lake,Cottonwood West,\"Salt Lake City, UT\",\"5715 S. 1400 E., SALT LAKE CITY(40.646667, -111.849722)\"')\n",
    "\n",
    "# # Look up an address with reverse geocoding\n",
    "# reverse_geocode_result = gmaps.reverse_geocode((40.714224, -73.961452))\n",
    "\n",
    "# # Request directions via public transit\n",
    "# now = datetime.now()\n",
    "# directions_result = gmaps.directions(\"Sydney Town Hall\",\n",
    "#                                      \"Parramatta, NSW\",\n",
    "#                                      mode=\"transit\",\n",
    "#                                      departure_time=now)\n",
    "\n",
    "# # Validate an address with address validation\n",
    "# addressvalidation_result =  gmaps.addressvalidation(['1600 Amphitheatre Pk'], \n",
    "#                                                     regionCode='US',\n",
    "#                                                     locality='Mountain View', \n",
    "#                                                     enableUspsCass=True)"
   ]
  },
  {
   "cell_type": "code",
   "execution_count": 11,
   "id": "845bb1c9-6556-448d-ae6f-4d10573d5878",
   "metadata": {
    "tags": []
   },
   "outputs": [
    {
     "data": {
      "text/plain": [
       "(-111.850523, 40.7061066)"
      ]
     },
     "execution_count": 11,
     "metadata": {},
     "output_type": "execute_result"
    }
   ],
   "source": [
    "(geocode_result[0]['geometry']['location']['lng'], geocode_result[0]['geometry']['location']['lat'])"
   ]
  },
  {
   "cell_type": "code",
   "execution_count": null,
   "id": "5feedaf1-846f-45f2-86c3-e33547e55776",
   "metadata": {
    "tags": []
   },
   "outputs": [],
   "source": []
  },
  {
   "cell_type": "code",
   "execution_count": null,
   "id": "e64029c6-2910-4f38-8a30-d71630f3e5f2",
   "metadata": {},
   "outputs": [],
   "source": []
  }
 ],
 "metadata": {
  "kernelspec": {
   "display_name": "Python 3 (ipykernel)",
   "language": "python",
   "name": "python3"
  },
  "language_info": {
   "codemirror_mode": {
    "name": "ipython",
    "version": 3
   },
   "file_extension": ".py",
   "mimetype": "text/x-python",
   "name": "python",
   "nbconvert_exporter": "python",
   "pygments_lexer": "ipython3",
   "version": "3.9.16"
  }
 },
 "nbformat": 4,
 "nbformat_minor": 5
}
