{
 "cells": [
  {
   "cell_type": "code",
   "execution_count": 4,
   "id": "3bb11353-e7e1-4e85-804b-a517f3c32b0b",
   "metadata": {},
   "outputs": [
    {
     "name": "stdout",
     "output_type": "stream",
     "text": [
      "Defaulting to user installation because normal site-packages is not writeable\n",
      "Requirement already satisfied: nltk in /home/ec2-user/.local/lib/python3.9/site-packages (3.8.1)\n",
      "Requirement already satisfied: joblib in /home/ec2-user/.local/lib/python3.9/site-packages (from nltk) (1.2.0)\n",
      "Requirement already satisfied: click in /home/ec2-user/.local/lib/python3.9/site-packages (from nltk) (8.1.3)\n",
      "Requirement already satisfied: regex>=2021.8.3 in /home/ec2-user/.local/lib/python3.9/site-packages (from nltk) (2023.3.23)\n",
      "Requirement already satisfied: tqdm in /home/ec2-user/.local/lib/python3.9/site-packages (from nltk) (4.65.0)\n"
     ]
    }
   ],
   "source": [
    "!pip install nltk"
   ]
  },
  {
   "cell_type": "code",
   "execution_count": 5,
   "id": "c7e5f4a2-db73-417c-9e39-78194787a0ce",
   "metadata": {
    "tags": []
   },
   "outputs": [
    {
     "name": "stderr",
     "output_type": "stream",
     "text": [
      "[nltk_data] Downloading package punkt to /home/ec2-user/nltk_data...\n",
      "[nltk_data]   Package punkt is already up-to-date!\n",
      "[nltk_data] Downloading package stopwords to\n",
      "[nltk_data]     /home/ec2-user/nltk_data...\n",
      "[nltk_data]   Package stopwords is already up-to-date!\n",
      "[nltk_data] Downloading package wordnet to /home/ec2-user/nltk_data...\n",
      "[nltk_data]   Package wordnet is already up-to-date!\n"
     ]
    },
    {
     "data": {
      "text/plain": [
       "True"
      ]
     },
     "execution_count": 5,
     "metadata": {},
     "output_type": "execute_result"
    }
   ],
   "source": [
    "import nltk\n",
    "nltk.download('punkt')\n",
    "nltk.download('stopwords')\n",
    "nltk.download('wordnet')"
   ]
  },
  {
   "cell_type": "code",
   "execution_count": 6,
   "id": "1153f406-8937-4266-a195-4c4ee93c0711",
   "metadata": {
    "tags": []
   },
   "outputs": [],
   "source": [
    "from nltk import sent_tokenize, word_tokenize\n",
    "from nltk.corpus import stopwords\n",
    "from nltk import WordNetLemmatizer\n",
    "from nltk.stem import PorterStemmer\n",
    "import re\n",
    "\n",
    "def clean_text(text):\n",
    "    ps = PorterStemmer()\n",
    "    text = re.sub(\"[^a-zA-Z]+\", \" \", text)\n",
    "    tokens = word_tokenize(text)\n",
    "    tokens = [word for word in tokens if word.isalpha()]\n",
    "    tokens = [word.lower() for word in tokens]\n",
    "    tokens = [word for word in tokens if not word in stopwords.words(\"english\")]\n",
    "    tokens = [ps.stem(word) for word in tokens]\n",
    "    lemma = WordNetLemmatizer()\n",
    "    tokens = [lemma.lemmatize(word) for word in tokens]\n",
    "    return tokens"
   ]
  },
  {
   "cell_type": "code",
   "execution_count": 39,
   "id": "f895567b-3432-409e-b854-3ca6eed094ac",
   "metadata": {
    "tags": []
   },
   "outputs": [
    {
     "name": "stdout",
     "output_type": "stream",
     "text": [
      "['addr', 'address', 'area', 'bbl', 'bin', 'block', 'board', 'borocod', 'borough', 'build', 'censu', 'citi', 'code', 'commun', 'compani', 'council', 'counti', 'cross', 'death', 'district', 'identif', 'intersect', 'locat', 'lot', 'name', 'neighborhood', 'nta', 'number', 'place', 'post', 'postal', 'prem', 'region', 'secondari', 'site', 'st', 'state', 'statepl', 'street', 'streetnam', 'tabul', 'tract', 'zip']\n"
     ]
    }
   ],
   "source": [
    "spatial_columns = [\"address_1\",\"address_2\", \"city\", \"state\", \"zip\", \"postal code(Post Code)\", \"borough/county\", \"region\", \"street ( + number)\", \"streetname\", \"borough_code\", \"PREM_ADDR\", \"place of death??\", \"block\" ,\" lot\", \"BBL(Borough, Block and Lot)\", \"Building Identification Number (BIN)\", \"Neighborhood Tabulation Areas (NTAs)\", \n",
    "\"StatePlate\", \"Intersecting Street\", \"location_name_and_address\" , \"(Company name\", \"building)\", \"Secondary Address\", \"Site_Address\", \"Location\", \"StatePlate\", \" Borocode\", \"Community Board\", \"on street\", \"cross st1/2\", \"Community Board\", \"Council District\", \"Census Tract\"]\n",
    "column_name_set = set()\n",
    "for column in spatial_columns:\n",
    "    tokens = clean_text(column)\n",
    "    column_name_set.update(set(tokens))\n",
    "    \n",
    "print(sorted(column_name_set))"
   ]
  },
  {
   "cell_type": "code",
   "execution_count": null,
   "id": "ed58a42a-0b4f-4298-a53c-5384fafc2cab",
   "metadata": {},
   "outputs": [],
   "source": [
    "column_filter = ['addr', 'address', 'area', 'bbl', 'bin', 'block', 'board', 'borocod', 'borough', 'build', 'citi', 'commun', 'compani', 'council', 'counti', 'cross', 'district', 'intersect', 'locat', 'neighborhood', 'nta', 'place', 'post', 'postal','region', 'site', 'st', 'state', 'statepl', 'street', 'tract', 'zip']"
   ]
  },
  {
   "cell_type": "code",
   "execution_count": null,
   "id": "da828f72-6d2c-4dbb-8cab-a989967f5fa7",
   "metadata": {},
   "outputs": [],
   "source": [
    "#lot, streetnam, identif"
   ]
  },
  {
   "cell_type": "code",
   "execution_count": 2,
   "id": "26f56b88-f5af-445d-84ee-5c4e237c7cee",
   "metadata": {
    "tags": []
   },
   "outputs": [],
   "source": [
    "import requests\n",
    "url = \"https://data.cityofnewyork.us/resource/cj2p-e3ej.json\"\n",
    "\n",
    "# A GET request to the API\n",
    "response = requests.get(url)\n",
    "\n",
    "# Print the response\n",
    "response_json = response.json()"
   ]
  },
  {
   "cell_type": "code",
   "execution_count": 9,
   "id": "3f9ba7e2-0b1a-45fb-98b5-7b399ff63c32",
   "metadata": {},
   "outputs": [
    {
     "name": "stdout",
     "output_type": "stream",
     "text": [
      "['coord', 'lng', 'lon', 'long', 'longitud', 'x', 'xcoord']\n"
     ]
    }
   ],
   "source": [
    "spatial_columns = ['longitude', 'long', 'lon', 'lng', 'xcoord', 'x_coord'] \n",
    "# Lg: 'longitude', 'long', 'lon', 'lng', 'xcoord', 'x_coord'\n",
    "column_name_set = set()\n",
    "for column in spatial_columns:\n",
    "    tokens = clean_text(column)\n",
    "    column_name_set.update(set(tokens))\n",
    "print(sorted(column_name_set))"
   ]
  },
  {
   "cell_type": "code",
   "execution_count": 25,
   "id": "647c76bc-96e7-4f84-afd4-adaa1b203caa",
   "metadata": {
    "tags": []
   },
   "outputs": [
    {
     "name": "stdout",
     "output_type": "stream",
     "text": [
      "100\n",
      "17\n",
      "100\n",
      "100\n"
     ]
    }
   ],
   "source": [
    "from fuzzywuzzy import fuzz\n",
    "print(fuzz.partial_ratio('addr', 'premaddr'))\n",
    "print(fuzz.partial_ratio('xcoord', 'yasdasd'))\n",
    "print(fuzz.partial_ratio('geo', 'geom'))\n",
    "print(fuzz.partial_ratio('ycoord', 'ycoord'))"
   ]
  },
  {
   "cell_type": "code",
   "execution_count": null,
   "id": "036f5ae6-2652-4bf6-b0d0-2c916ab87689",
   "metadata": {},
   "outputs": [],
   "source": [
    "column_filter = ['addr', 'address', 'area', 'bbl', 'bin', 'block', 'board', 'borocod', 'borough', 'build', 'citi', 'commun', 'compani', 'council', 'counti', 'cross', 'district', 'intersect', 'locat', 'neighborhood', 'nta', 'place', 'post', 'postal','region', 'site', 'st', 'state', 'statepl', 'street', 'tract', 'zip']"
   ]
  }
 ],
 "metadata": {
  "kernelspec": {
   "display_name": "Python 3 (ipykernel)",
   "language": "python",
   "name": "python3"
  },
  "language_info": {
   "codemirror_mode": {
    "name": "ipython",
    "version": 3
   },
   "file_extension": ".py",
   "mimetype": "text/x-python",
   "name": "python",
   "nbconvert_exporter": "python",
   "pygments_lexer": "ipython3",
   "version": "3.9.16"
  }
 },
 "nbformat": 4,
 "nbformat_minor": 5
}
