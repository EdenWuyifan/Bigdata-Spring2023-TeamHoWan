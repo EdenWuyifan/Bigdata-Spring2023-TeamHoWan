{
 "cells": [
  {
   "cell_type": "code",
   "execution_count": 1,
   "id": "c68239f3-8e95-42d0-95e2-9f02a7eba5b1",
   "metadata": {
    "tags": []
   },
   "outputs": [
    {
     "name": "stderr",
     "output_type": "stream",
     "text": [
      "/home/ec2-user/.local/lib/python3.9/site-packages/fuzzywuzzy/fuzz.py:11: UserWarning: Using slow pure-python SequenceMatcher. Install python-Levenshtein to remove this warning\n",
      "  warnings.warn('Using slow pure-python SequenceMatcher. Install python-Levenshtein to remove this warning')\n"
     ]
    }
   ],
   "source": [
    "import os\n",
    "import sys\n",
    "import openai\n",
    "sys.path.append('/home/ec2-user/Bigdata-Spring2023-TeamHoWan/')\n",
    "from spatial_profiler.resource.datamart_API import DataMartAPI\n",
    "from spatial_profiler.resource.geoconcat import GeoConcat\n",
    "from spatial_profiler.resource.profiler import SpatialProfiler\n",
    "\n",
    "# openai.organization = \"org-\"\n",
    "# OPENAI_API_KEY=\"sk-\"\n",
    "OPENAI_API_KEY=os.getenv(\"THW_GPT_KEY\")\n",
    "openai.api_key = OPENAI_API_KEY\n",
    "model_list = openai.Model.list()"
   ]
  },
  {
   "cell_type": "raw",
   "id": "37734fec-5bea-4233-b370-dd95dc77d7cd",
   "metadata": {
    "tags": []
   },
   "source": [
    "openai.Model.retrieve(\"text-davinci-003\")"
   ]
  },
  {
   "cell_type": "code",
   "execution_count": 2,
   "id": "d126c257-2c48-41c0-be4c-cb59251430c7",
   "metadata": {
    "tags": []
   },
   "outputs": [],
   "source": [
    "dm = DataMartAPI()\n",
    "dm.search(\"New York, spatial\")\n",
    "dm.next_page()\n",
    "single_data = dm.get_single_result(3)"
   ]
  },
  {
   "cell_type": "raw",
   "id": "4de00eef-aa0a-4c69-8819-da9f02940acf",
   "metadata": {
    "tags": []
   },
   "source": [
    "content = \"Help me extract the state abbreviation information from the following paragraph: \\n\" + dm.get_descriptions(single_data)\n",
    "completion = openai.ChatCompletion.create(\n",
    "  model=\"gpt-3.5-turbo-0301\",\n",
    "  messages=[\n",
    "    {\"role\": \"user\", \"content\": content}\n",
    "  ]\n",
    ")\n",
    "\n",
    "print(completion.choices[0].message)"
   ]
  },
  {
   "cell_type": "raw",
   "id": "435192ca-c8a9-4747-9885-7e93151a598e",
   "metadata": {},
   "source": [
    "import usaddress\n",
    "addr=dm.get_descriptions(single_data)\n",
    "\n",
    "# The parse method will split your address string into components, and label each component.\n",
    "# expected output: [(u'123', 'AddressNumber'), (u'Main', 'StreetName'), (u'St.', 'StreetNamePostType'), (u'Suite', 'OccupancyType'), (u'100', 'OccupancyIdentifier'), (u'Chicago,', 'PlaceName'), (u'IL', 'StateName')]\n",
    "usaddress.tag(addr)"
   ]
  },
  {
   "cell_type": "code",
   "execution_count": 3,
   "id": "51fa1f65-5b5f-43fc-8144-a51e9ab642e4",
   "metadata": {
    "tags": []
   },
   "outputs": [
    {
     "data": {
      "text/plain": [
       "('Synthesis of Environmental Mercury Loads in New York State (1969-2017): Sites. Description: This dataset includes information from a statewide synthesis effort, involving the compilation, analysis, and synthesis of existing data on environmental mercury (Hg) concentrations and loads in New York State, with an emphasis on Hg data collected during recent NYSERDA-sponsored monitoring and research efforts. Compiling existing mercury data is a vital step to understanding the broad spatial and temporal patterns of mercury across the landscape. This dataset includes information about the locations in which samples were collected and is one of eight datasets from the statewide synthesis database.  \\n\\nThe New York State Energy Research and Development Authority (NYSERDA) offers objective information and analysis, innovative programs, technical expertise, and support to help New Yorkers increase energy efficiency, save money, use renewable energy, and accelerate economic growth. reduce reliance on fossil fuels. To learn more about NYSERDA’s programs, visit nyserda.ny.gov or follow us on Twitter, Facebook, YouTube, or Instagram.',\n",
       " ['Capture_Loc',\n",
       "  'Project_ID',\n",
       "  'Project_Title',\n",
       "  'SiteName',\n",
       "  'TerritoryName',\n",
       "  'Latitude',\n",
       "  'Longitude',\n",
       "  'Waterbody_Type',\n",
       "  'State',\n",
       "  'County',\n",
       "  'Region',\n",
       "  'Georefence'])"
      ]
     },
     "execution_count": 3,
     "metadata": {},
     "output_type": "execute_result"
    }
   ],
   "source": [
    "# import locationtagger\n",
    "dm = DataMartAPI()\n",
    "dm.search(\"New York, Spatial\")\n",
    "dm.next_page()\n",
    "single_data = dm.get_single_result(1)\n",
    "addr=dm.get_descriptions(single_data)\n",
    "addr, dm.get_column_names(single_data)"
   ]
  },
  {
   "cell_type": "code",
   "execution_count": 4,
   "id": "704fa430-598f-450a-bf4e-ec2536b0c3b4",
   "metadata": {
    "tags": []
   },
   "outputs": [
    {
     "data": {
      "text/plain": [
       "[{'address_components': [{'long_name': '11201',\n",
       "    'short_name': '11201',\n",
       "    'types': ['postal_code']},\n",
       "   {'long_name': 'Brooklyn Heights',\n",
       "    'short_name': 'Brooklyn Heights',\n",
       "    'types': ['neighborhood', 'political']},\n",
       "   {'long_name': 'New York',\n",
       "    'short_name': 'New York',\n",
       "    'types': ['locality', 'political']},\n",
       "   {'long_name': 'New York',\n",
       "    'short_name': 'NY',\n",
       "    'types': ['administrative_area_level_1', 'political']},\n",
       "   {'long_name': 'United States',\n",
       "    'short_name': 'US',\n",
       "    'types': ['country', 'political']}],\n",
       "  'formatted_address': 'Brooklyn Heights, NY 11201, USA',\n",
       "  'geometry': {'bounds': {'northeast': {'lat': 40.710594, 'lng': -73.9688331},\n",
       "    'southwest': {'lat': 40.6835594, 'lng': -74.006444}},\n",
       "   'location': {'lat': 40.6986772, 'lng': -73.9859414},\n",
       "   'location_type': 'APPROXIMATE',\n",
       "   'viewport': {'northeast': {'lat': 40.710594, 'lng': -73.9688331},\n",
       "    'southwest': {'lat': 40.6835594, 'lng': -74.006444}}},\n",
       "  'place_id': 'ChIJ10KLdUlawokRxmIQu1GuCHk',\n",
       "  'postcode_localities': ['Brooklyn', 'Manhattan'],\n",
       "  'types': ['postal_code']}]"
      ]
     },
     "execution_count": 4,
     "metadata": {},
     "output_type": "execute_result"
    }
   ],
   "source": [
    "geo_key = os.getenv(\"THW_GEO_KEY\")\n",
    "profiler = SpatialProfiler(geo_key=geo_key)\n",
    "# df = profiler.profiling(single_data)\n",
    "profiler.geoconcat.geocoding_all(\"11201\")"
   ]
  },
  {
   "cell_type": "code",
   "execution_count": 53,
   "id": "a979384b-5868-4867-a6c6-ddd04f9f67c7",
   "metadata": {
    "scrolled": true,
    "tags": []
   },
   "outputs": [
    {
     "data": {
      "text/plain": [
       "0                          Fishkill, NY\n",
       "1                    Big Moose Lake, NY\n",
       "2                    Castleton Isl., NY\n",
       "3                 St. Lawrence Riv., NY\n",
       "4      RO1880, NY, Rockland, Mid-Hudson\n",
       "                     ...               \n",
       "495               (42.94306, -75.92278)\n",
       "496               (42.28297, -78.67303)\n",
       "497                (41.0456, -72.29373)\n",
       "498                (42.9033, -73.34961)\n",
       "499                 (42.93944, -73.285)\n",
       "Length: 500, dtype: object"
      ]
     },
     "execution_count": 53,
     "metadata": {},
     "output_type": "execute_result"
    }
   ],
   "source": [
    "import numpy as np\n",
    "import pandas as pd\n",
    "def assemble_single_row(row):\n",
    "    # 1. check lat long\n",
    "    if row.filter(regex=\"_longitude$\").shape[0] and  row.filter(regex=\"_latitude$\").shape[0]:\n",
    "        lat = row.filter(regex=\"_latitude$\").values[0]\n",
    "        long = row.filter(regex=\"_longitude$\").values[0]\n",
    "        if not pd.isna(lat) and not pd.isna(long):\n",
    "            return f\"({lat}, {long})\"\n",
    "        \n",
    "    # 2. check geo\n",
    "    if row.filter(regex=\"_geojson$\").shape[0]:\n",
    "        geo = row.filter(regex=\"_geojson$\").values[0]\n",
    "        if not pd.isna(geo):\n",
    "            return f\"({geo[1]}, {geo[0]})\"\n",
    "        \n",
    "    # 3. check postal\n",
    "    if row.filter(regex=\"_zipcode$\").shape[0]:\n",
    "        zipcode = row.filter(regex=\"_zipcode$\").values[0]\n",
    "        if not pd.isna(zipcode):\n",
    "            return zipcode\n",
    "    \n",
    "    # address\n",
    "    return row[\"TeamHoWan_address\"]\n",
    "    \n",
    "    \n",
    "df.apply(assemble_single_row, axis=1)"
   ]
  },
  {
   "cell_type": "code",
   "execution_count": 4,
   "id": "2db60490-e348-44f5-ade7-77f23614843a",
   "metadata": {
    "tags": []
   },
   "outputs": [
    {
     "data": {
      "text/html": [
       "<div>\n",
       "<style scoped>\n",
       "    .dataframe tbody tr th:only-of-type {\n",
       "        vertical-align: middle;\n",
       "    }\n",
       "\n",
       "    .dataframe tbody tr th {\n",
       "        vertical-align: top;\n",
       "    }\n",
       "\n",
       "    .dataframe thead th {\n",
       "        text-align: right;\n",
       "    }\n",
       "</style>\n",
       "<table border=\"1\" class=\"dataframe\">\n",
       "  <thead>\n",
       "    <tr style=\"text-align: right;\">\n",
       "      <th></th>\n",
       "      <th>Capture_Loc</th>\n",
       "      <th>Project_ID</th>\n",
       "      <th>Project_Title</th>\n",
       "      <th>SiteName</th>\n",
       "      <th>TerritoryName</th>\n",
       "      <th>Latitude</th>\n",
       "      <th>Longitude</th>\n",
       "      <th>Waterbody_Type</th>\n",
       "      <th>State</th>\n",
       "      <th>County</th>\n",
       "      <th>Region</th>\n",
       "      <th>Georefence</th>\n",
       "      <th>TeamHoWan_address</th>\n",
       "      <th>TeamHoWan_Latitude_latitude</th>\n",
       "      <th>TeamHoWan_Longitude_longitude</th>\n",
       "      <th>TeamHoWan_Georefence_geojson</th>\n",
       "      <th>thw_parsed</th>\n",
       "      <th>thw_parsed_geo</th>\n",
       "    </tr>\n",
       "  </thead>\n",
       "  <tbody>\n",
       "    <tr>\n",
       "      <th>0</th>\n",
       "      <td>NY013-NY044NYT190-</td>\n",
       "      <td>NY013</td>\n",
       "      <td>BRI NY Bat Data</td>\n",
       "      <td>Fishkill</td>\n",
       "      <td>Fishkill</td>\n",
       "      <td></td>\n",
       "      <td></td>\n",
       "      <td></td>\n",
       "      <td>NY</td>\n",
       "      <td></td>\n",
       "      <td></td>\n",
       "      <td></td>\n",
       "      <td>Fishkill, NY</td>\n",
       "      <td>NaN</td>\n",
       "      <td>NaN</td>\n",
       "      <td>None</td>\n",
       "      <td>Fishkill, NY</td>\n",
       "      <td>(-73.89902520000001, 41.53564919999999)</td>\n",
       "    </tr>\n",
       "    <tr>\n",
       "      <th>1</th>\n",
       "      <td>NY014--</td>\n",
       "      <td>NY014</td>\n",
       "      <td>BRI NY Loon Data</td>\n",
       "      <td>Big Moose Lake</td>\n",
       "      <td>West Bay</td>\n",
       "      <td></td>\n",
       "      <td></td>\n",
       "      <td></td>\n",
       "      <td>NY</td>\n",
       "      <td></td>\n",
       "      <td></td>\n",
       "      <td></td>\n",
       "      <td>Big Moose Lake, NY</td>\n",
       "      <td>NaN</td>\n",
       "      <td>NaN</td>\n",
       "      <td>None</td>\n",
       "      <td>Big Moose Lake, NY</td>\n",
       "      <td>(-74.849251, 43.8315505)</td>\n",
       "    </tr>\n",
       "    <tr>\n",
       "      <th>2</th>\n",
       "      <td>NY015-Castleton Isl.-</td>\n",
       "      <td>NY015</td>\n",
       "      <td>BRI NY BAEA Data</td>\n",
       "      <td>Castleton Isl.</td>\n",
       "      <td></td>\n",
       "      <td></td>\n",
       "      <td></td>\n",
       "      <td></td>\n",
       "      <td>NY</td>\n",
       "      <td></td>\n",
       "      <td></td>\n",
       "      <td></td>\n",
       "      <td>Castleton Isl., NY</td>\n",
       "      <td>NaN</td>\n",
       "      <td>NaN</td>\n",
       "      <td>None</td>\n",
       "      <td>Castleton Isl., NY</td>\n",
       "      <td>(-73.2103934, 40.7298207)</td>\n",
       "    </tr>\n",
       "    <tr>\n",
       "      <th>3</th>\n",
       "      <td>NY015-St. Lawrence Riv.-</td>\n",
       "      <td>NY015</td>\n",
       "      <td>BRI NY BAEA Data</td>\n",
       "      <td>St. Lawrence Riv.</td>\n",
       "      <td></td>\n",
       "      <td></td>\n",
       "      <td></td>\n",
       "      <td></td>\n",
       "      <td>NY</td>\n",
       "      <td></td>\n",
       "      <td></td>\n",
       "      <td></td>\n",
       "      <td>St. Lawrence Riv., NY</td>\n",
       "      <td>NaN</td>\n",
       "      <td>NaN</td>\n",
       "      <td>None</td>\n",
       "      <td>St. Lawrence Riv., NY</td>\n",
       "      <td>(-74.0059728, 40.7127753)</td>\n",
       "    </tr>\n",
       "    <tr>\n",
       "      <th>4</th>\n",
       "      <td>NY016-410621073580101-00</td>\n",
       "      <td>NY016</td>\n",
       "      <td>waterdata.usgs.gov</td>\n",
       "      <td>RO1880</td>\n",
       "      <td></td>\n",
       "      <td></td>\n",
       "      <td></td>\n",
       "      <td>Water-supply treatment plant</td>\n",
       "      <td>NY</td>\n",
       "      <td>Rockland</td>\n",
       "      <td>Mid-Hudson</td>\n",
       "      <td></td>\n",
       "      <td>RO1880, NY, Rockland, Mid-Hudson</td>\n",
       "      <td>NaN</td>\n",
       "      <td>NaN</td>\n",
       "      <td>None</td>\n",
       "      <td>RO1880, NY, Rockland, Mid-Hudson</td>\n",
       "      <td>(-74.0312737, 41.1416845)</td>\n",
       "    </tr>\n",
       "    <tr>\n",
       "      <th>...</th>\n",
       "      <td>...</td>\n",
       "      <td>...</td>\n",
       "      <td>...</td>\n",
       "      <td>...</td>\n",
       "      <td>...</td>\n",
       "      <td>...</td>\n",
       "      <td>...</td>\n",
       "      <td>...</td>\n",
       "      <td>...</td>\n",
       "      <td>...</td>\n",
       "      <td>...</td>\n",
       "      <td>...</td>\n",
       "      <td>...</td>\n",
       "      <td>...</td>\n",
       "      <td>...</td>\n",
       "      <td>...</td>\n",
       "      <td>...</td>\n",
       "      <td>...</td>\n",
       "    </tr>\n",
       "    <tr>\n",
       "      <th>495</th>\n",
       "      <td>NY016-425635075552201-42.94306-75.92278</td>\n",
       "      <td>NY016</td>\n",
       "      <td>waterdata.usgs.gov</td>\n",
       "      <td>OD1900</td>\n",
       "      <td></td>\n",
       "      <td>42.94306</td>\n",
       "      <td>-75.92278</td>\n",
       "      <td>Well</td>\n",
       "      <td>NY</td>\n",
       "      <td>Onondaga</td>\n",
       "      <td>Central Ny</td>\n",
       "      <td>POINT (-75.92278 42.94306)</td>\n",
       "      <td>OD1900, NY, Onondaga, Central Ny</td>\n",
       "      <td>42.94306</td>\n",
       "      <td>-75.92278</td>\n",
       "      <td>(-75.92278, 42.94306)</td>\n",
       "      <td>42.94306, -75.92278</td>\n",
       "      <td>(-75.92278000000002, 42.9431608)</td>\n",
       "    </tr>\n",
       "    <tr>\n",
       "      <th>496</th>\n",
       "      <td>NY016-421659078402301-42.28297-78.67303</td>\n",
       "      <td>NY016</td>\n",
       "      <td>waterdata.usgs.gov</td>\n",
       "      <td>CT 472</td>\n",
       "      <td></td>\n",
       "      <td>42.28297</td>\n",
       "      <td>-78.67303</td>\n",
       "      <td>Well</td>\n",
       "      <td>NY</td>\n",
       "      <td>Cattaraugus</td>\n",
       "      <td>Western Ny</td>\n",
       "      <td>POINT (-78.67303 42.28297)</td>\n",
       "      <td>CT 472, NY, Cattaraugus, Western Ny</td>\n",
       "      <td>42.28297</td>\n",
       "      <td>-78.67303</td>\n",
       "      <td>(-78.67303, 42.28297)</td>\n",
       "      <td>42.28297, -78.67303</td>\n",
       "      <td>(-78.6738586, 42.2824249)</td>\n",
       "    </tr>\n",
       "    <tr>\n",
       "      <th>497</th>\n",
       "      <td>NY001-NY105NYT333-41.04560-72.29373</td>\n",
       "      <td>NY001</td>\n",
       "      <td>BRI NY Birds</td>\n",
       "      <td>Mashomack Preserve</td>\n",
       "      <td>Pine Swamp Manor House</td>\n",
       "      <td>41.0456</td>\n",
       "      <td>-72.29373</td>\n",
       "      <td></td>\n",
       "      <td>NY</td>\n",
       "      <td>Suffolk</td>\n",
       "      <td>Long Island</td>\n",
       "      <td>POINT (-72.29373 41.0456)</td>\n",
       "      <td>Mashomack Preserve, NY, Suffolk, Long Island</td>\n",
       "      <td>41.04560</td>\n",
       "      <td>-72.29373</td>\n",
       "      <td>(-72.29373, 41.0456)</td>\n",
       "      <td>41.0456, -72.29373</td>\n",
       "      <td>(-72.29401, 41.0453404)</td>\n",
       "    </tr>\n",
       "    <tr>\n",
       "      <th>498</th>\n",
       "      <td>NY002-NY-HOOSIC RIVER-42.903302-73.349606</td>\n",
       "      <td>NY002</td>\n",
       "      <td>New York State Department of Environmental Con...</td>\n",
       "      <td>HOOSIC RIVER</td>\n",
       "      <td></td>\n",
       "      <td>42.9033</td>\n",
       "      <td>-73.34961</td>\n",
       "      <td></td>\n",
       "      <td>NY</td>\n",
       "      <td>Rensselaer</td>\n",
       "      <td>Capital</td>\n",
       "      <td>POINT (-73.34961 42.9033)</td>\n",
       "      <td>HOOSIC RIVER, NY, Rensselaer, Capital</td>\n",
       "      <td>42.90330</td>\n",
       "      <td>-73.34961</td>\n",
       "      <td>(-73.34961, 42.9033)</td>\n",
       "      <td>42.9033, -73.34961</td>\n",
       "      <td>(-73.348902, 42.903505)</td>\n",
       "    </tr>\n",
       "    <tr>\n",
       "      <th>499</th>\n",
       "      <td>NY023-WALLOOMSAC RIVERWALLOOMSAC R. IN WHITE C...</td>\n",
       "      <td>NY023</td>\n",
       "      <td>RIBS</td>\n",
       "      <td>WALLOOMSAC RIVER</td>\n",
       "      <td>WALLOOMSAC R. IN WHITE CREEK  @ COTTRELL RD.BR.</td>\n",
       "      <td>42.93944</td>\n",
       "      <td>-73.285</td>\n",
       "      <td>River/Stream</td>\n",
       "      <td>NY</td>\n",
       "      <td>Rensselaer</td>\n",
       "      <td>Capital</td>\n",
       "      <td>POINT (-73.285 42.93944)</td>\n",
       "      <td>WALLOOMSAC RIVER, NY, Rensselaer, Capital</td>\n",
       "      <td>42.93944</td>\n",
       "      <td>-73.28500</td>\n",
       "      <td>(-73.285, 42.93944)</td>\n",
       "      <td>42.93944, -73.285</td>\n",
       "      <td>(-73.284333, 42.94046900000001)</td>\n",
       "    </tr>\n",
       "  </tbody>\n",
       "</table>\n",
       "<p>500 rows × 18 columns</p>\n",
       "</div>"
      ],
      "text/plain": [
       "                                           Capture_Loc Project_ID  \\\n",
       "0                                   NY013-NY044NYT190-      NY013   \n",
       "1                                              NY014--      NY014   \n",
       "2                                NY015-Castleton Isl.-      NY015   \n",
       "3                             NY015-St. Lawrence Riv.-      NY015   \n",
       "4                             NY016-410621073580101-00      NY016   \n",
       "..                                                 ...        ...   \n",
       "495            NY016-425635075552201-42.94306-75.92278      NY016   \n",
       "496            NY016-421659078402301-42.28297-78.67303      NY016   \n",
       "497                NY001-NY105NYT333-41.04560-72.29373      NY001   \n",
       "498          NY002-NY-HOOSIC RIVER-42.903302-73.349606      NY002   \n",
       "499  NY023-WALLOOMSAC RIVERWALLOOMSAC R. IN WHITE C...      NY023   \n",
       "\n",
       "                                         Project_Title            SiteName  \\\n",
       "0                                      BRI NY Bat Data            Fishkill   \n",
       "1                                     BRI NY Loon Data      Big Moose Lake   \n",
       "2                                     BRI NY BAEA Data      Castleton Isl.   \n",
       "3                                     BRI NY BAEA Data   St. Lawrence Riv.   \n",
       "4                                   waterdata.usgs.gov              RO1880   \n",
       "..                                                 ...                 ...   \n",
       "495                                 waterdata.usgs.gov              OD1900   \n",
       "496                                 waterdata.usgs.gov              CT 472   \n",
       "497                                       BRI NY Birds  Mashomack Preserve   \n",
       "498  New York State Department of Environmental Con...        HOOSIC RIVER   \n",
       "499                                               RIBS    WALLOOMSAC RIVER   \n",
       "\n",
       "                                       TerritoryName  Latitude  Longitude  \\\n",
       "0                                           Fishkill                        \n",
       "1                                           West Bay                        \n",
       "2                                                                           \n",
       "3                                                                           \n",
       "4                                                                           \n",
       "..                                               ...       ...        ...   \n",
       "495                                                   42.94306  -75.92278   \n",
       "496                                                   42.28297  -78.67303   \n",
       "497                           Pine Swamp Manor House   41.0456  -72.29373   \n",
       "498                                                    42.9033  -73.34961   \n",
       "499  WALLOOMSAC R. IN WHITE CREEK  @ COTTRELL RD.BR.  42.93944    -73.285   \n",
       "\n",
       "                   Waterbody_Type State       County       Region  \\\n",
       "0                                    NY                             \n",
       "1                                    NY                             \n",
       "2                                    NY                             \n",
       "3                                    NY                             \n",
       "4    Water-supply treatment plant    NY     Rockland   Mid-Hudson   \n",
       "..                            ...   ...          ...          ...   \n",
       "495                          Well    NY     Onondaga   Central Ny   \n",
       "496                          Well    NY  Cattaraugus   Western Ny   \n",
       "497                                  NY      Suffolk  Long Island   \n",
       "498                                  NY   Rensselaer      Capital   \n",
       "499                  River/Stream    NY   Rensselaer      Capital   \n",
       "\n",
       "                     Georefence                             TeamHoWan_address  \\\n",
       "0                                                                Fishkill, NY   \n",
       "1                                                          Big Moose Lake, NY   \n",
       "2                                                          Castleton Isl., NY   \n",
       "3                                                       St. Lawrence Riv., NY   \n",
       "4                                            RO1880, NY, Rockland, Mid-Hudson   \n",
       "..                          ...                                           ...   \n",
       "495  POINT (-75.92278 42.94306)              OD1900, NY, Onondaga, Central Ny   \n",
       "496  POINT (-78.67303 42.28297)           CT 472, NY, Cattaraugus, Western Ny   \n",
       "497   POINT (-72.29373 41.0456)  Mashomack Preserve, NY, Suffolk, Long Island   \n",
       "498   POINT (-73.34961 42.9033)         HOOSIC RIVER, NY, Rensselaer, Capital   \n",
       "499    POINT (-73.285 42.93944)     WALLOOMSAC RIVER, NY, Rensselaer, Capital   \n",
       "\n",
       "     TeamHoWan_Latitude_latitude  TeamHoWan_Longitude_longitude  \\\n",
       "0                            NaN                            NaN   \n",
       "1                            NaN                            NaN   \n",
       "2                            NaN                            NaN   \n",
       "3                            NaN                            NaN   \n",
       "4                            NaN                            NaN   \n",
       "..                           ...                            ...   \n",
       "495                     42.94306                      -75.92278   \n",
       "496                     42.28297                      -78.67303   \n",
       "497                     41.04560                      -72.29373   \n",
       "498                     42.90330                      -73.34961   \n",
       "499                     42.93944                      -73.28500   \n",
       "\n",
       "    TeamHoWan_Georefence_geojson                        thw_parsed  \\\n",
       "0                           None                      Fishkill, NY   \n",
       "1                           None                Big Moose Lake, NY   \n",
       "2                           None                Castleton Isl., NY   \n",
       "3                           None             St. Lawrence Riv., NY   \n",
       "4                           None  RO1880, NY, Rockland, Mid-Hudson   \n",
       "..                           ...                               ...   \n",
       "495        (-75.92278, 42.94306)               42.94306, -75.92278   \n",
       "496        (-78.67303, 42.28297)               42.28297, -78.67303   \n",
       "497         (-72.29373, 41.0456)                41.0456, -72.29373   \n",
       "498         (-73.34961, 42.9033)                42.9033, -73.34961   \n",
       "499          (-73.285, 42.93944)                 42.93944, -73.285   \n",
       "\n",
       "                              thw_parsed_geo  \n",
       "0    (-73.89902520000001, 41.53564919999999)  \n",
       "1                   (-74.849251, 43.8315505)  \n",
       "2                  (-73.2103934, 40.7298207)  \n",
       "3                  (-74.0059728, 40.7127753)  \n",
       "4                  (-74.0312737, 41.1416845)  \n",
       "..                                       ...  \n",
       "495         (-75.92278000000002, 42.9431608)  \n",
       "496                (-78.6738586, 42.2824249)  \n",
       "497                  (-72.29401, 41.0453404)  \n",
       "498                  (-73.348902, 42.903505)  \n",
       "499          (-73.284333, 42.94046900000001)  \n",
       "\n",
       "[500 rows x 18 columns]"
      ]
     },
     "execution_count": 4,
     "metadata": {},
     "output_type": "execute_result"
    }
   ],
   "source": [
    "df"
   ]
  },
  {
   "cell_type": "code",
   "execution_count": 7,
   "id": "3171654f-c336-4d5a-9e0d-17b8b122659c",
   "metadata": {
    "tags": []
   },
   "outputs": [
    {
     "name": "stdout",
     "output_type": "stream",
     "text": [
      "(42.94306, -75.92278)\n"
     ]
    },
    {
     "data": {
      "text/plain": [
       "[{'address_components': [{'long_name': '11201',\n",
       "    'short_name': '11201',\n",
       "    'types': ['postal_code']},\n",
       "   {'long_name': 'Brooklyn Heights',\n",
       "    'short_name': 'Brooklyn Heights',\n",
       "    'types': ['neighborhood', 'political']},\n",
       "   {'long_name': 'New York',\n",
       "    'short_name': 'New York',\n",
       "    'types': ['locality', 'political']},\n",
       "   {'long_name': 'New York',\n",
       "    'short_name': 'NY',\n",
       "    'types': ['administrative_area_level_1', 'political']},\n",
       "   {'long_name': 'United States',\n",
       "    'short_name': 'US',\n",
       "    'types': ['country', 'political']}],\n",
       "  'formatted_address': 'Brooklyn Heights, NY 11201, USA',\n",
       "  'geometry': {'bounds': {'northeast': {'lat': 40.710594, 'lng': -73.9688331},\n",
       "    'southwest': {'lat': 40.6835594, 'lng': -74.006444}},\n",
       "   'location': {'lat': 40.6986772, 'lng': -73.9859414},\n",
       "   'location_type': 'APPROXIMATE',\n",
       "   'viewport': {'northeast': {'lat': 40.710594, 'lng': -73.9688331},\n",
       "    'southwest': {'lat': 40.6835594, 'lng': -74.006444}}},\n",
       "  'place_id': 'ChIJ10KLdUlawokRxmIQu1GuCHk',\n",
       "  'postcode_localities': ['Brooklyn', 'Manhattan'],\n",
       "  'types': ['postal_code']}]"
      ]
     },
     "execution_count": 7,
     "metadata": {},
     "output_type": "execute_result"
    }
   ],
   "source": [
    "print(df.iloc[495][\"thw_parsed\"])\n",
    "#42.94306, -75.92278\n",
    "profiler.geoconcat.geocoding_all(\"11201\")"
   ]
  },
  {
   "cell_type": "code",
   "execution_count": 6,
   "id": "c8115cf6-bf4b-4608-8277-877338bd9b40",
   "metadata": {
    "tags": []
   },
   "outputs": [
    {
     "ename": "NameError",
     "evalue": "name 'out' is not defined",
     "output_type": "error",
     "traceback": [
      "\u001b[0;31m---------------------------------------------------------------------------\u001b[0m",
      "\u001b[0;31mNameError\u001b[0m                                 Traceback (most recent call last)",
      "\u001b[0;32m/tmp/ipykernel_8725/784796810.py\u001b[0m in \u001b[0;36m<cell line: 3>\u001b[0;34m()\u001b[0m\n\u001b[1;32m      1\u001b[0m \u001b[0msingle_data\u001b[0m\u001b[0;34m.\u001b[0m\u001b[0m__class__\u001b[0m\u001b[0;34m\u001b[0m\u001b[0;34m\u001b[0m\u001b[0m\n\u001b[1;32m      2\u001b[0m \u001b[0;34m\u001b[0m\u001b[0m\n\u001b[0;32m----> 3\u001b[0;31m \u001b[0mbound\u001b[0m \u001b[0;34m=\u001b[0m \u001b[0;34m{\u001b[0m\u001b[0;34m\"latitude\"\u001b[0m\u001b[0;34m:\u001b[0m \u001b[0;34m(\u001b[0m\u001b[0mout\u001b[0m\u001b[0;34m.\u001b[0m\u001b[0mbbox\u001b[0m\u001b[0;34m[\u001b[0m\u001b[0;34m'southwest'\u001b[0m\u001b[0;34m]\u001b[0m\u001b[0;34m[\u001b[0m\u001b[0;36m0\u001b[0m\u001b[0;34m]\u001b[0m\u001b[0;34m,\u001b[0m \u001b[0mout\u001b[0m\u001b[0;34m.\u001b[0m\u001b[0mbbox\u001b[0m\u001b[0;34m[\u001b[0m\u001b[0;34m'northeast'\u001b[0m\u001b[0;34m]\u001b[0m\u001b[0;34m[\u001b[0m\u001b[0;36m0\u001b[0m\u001b[0;34m]\u001b[0m\u001b[0;34m)\u001b[0m\u001b[0;34m,\u001b[0m \u001b[0;34m\"longitude\"\u001b[0m\u001b[0;34m:\u001b[0m \u001b[0;34m(\u001b[0m\u001b[0mout\u001b[0m\u001b[0;34m.\u001b[0m\u001b[0mbbox\u001b[0m\u001b[0;34m[\u001b[0m\u001b[0;34m'southwest'\u001b[0m\u001b[0;34m]\u001b[0m\u001b[0;34m[\u001b[0m\u001b[0;36m1\u001b[0m\u001b[0;34m]\u001b[0m\u001b[0;34m,\u001b[0m \u001b[0mout\u001b[0m\u001b[0;34m.\u001b[0m\u001b[0mbbox\u001b[0m\u001b[0;34m[\u001b[0m\u001b[0;34m'northeast'\u001b[0m\u001b[0;34m]\u001b[0m\u001b[0;34m[\u001b[0m\u001b[0;36m1\u001b[0m\u001b[0;34m]\u001b[0m\u001b[0;34m)\u001b[0m\u001b[0;34m}\u001b[0m\u001b[0;34m\u001b[0m\u001b[0;34m\u001b[0m\u001b[0m\n\u001b[0m",
      "\u001b[0;31mNameError\u001b[0m: name 'out' is not defined"
     ]
    }
   ],
   "source": [
    "single_data.__class__\n",
    "\n",
    "bound = {\"latitude\": (out.bbox['southwest'][0], out.bbox['northeast'][0]), \"longitude\": (out.bbox['southwest'][1], out.bbox['northeast'][1])}"
   ]
  },
  {
   "cell_type": "code",
   "execution_count": 2,
   "id": "5925c327-e62d-48b2-b5e4-bbf0eae8aebc",
   "metadata": {
    "tags": []
   },
   "outputs": [
    {
     "name": "stdout",
     "output_type": "stream",
     "text": [
      "[]\n"
     ]
    }
   ],
   "source": [
    "mapAPI = os.getenv(\"THW_GEO_KEY\")\n",
    "geoconcat = GeoConcat(mapAPI)\n",
    "geoconcat.read_address(\"Planning Areas. Description: San Francisco Planning Department's Planning Areas.\")"
   ]
  },
  {
   "cell_type": "code",
   "execution_count": 4,
   "id": "2e4af61e-4138-461b-bee7-05c238edc384",
   "metadata": {
    "tags": []
   },
   "outputs": [
    {
     "name": "stdout",
     "output_type": "stream",
     "text": [
      "['Synthesis', 'New York State', 'New York State', 'New York', 'Facebook']\n"
     ]
    }
   ],
   "source": [
    "import geograpy\n",
    "from geograpy import extraction\n",
    "\n",
    "\n",
    "e = extraction.Extractor(text=addr)\n",
    "e.find_geoEntities()\n",
    "print(e.places)"
   ]
  },
  {
   "cell_type": "code",
   "execution_count": 5,
   "id": "78465679-5a5a-45c2-9b03-064bc6d29764",
   "metadata": {
    "tags": []
   },
   "outputs": [
    {
     "data": {
      "text/plain": [
       "[]"
      ]
     },
     "execution_count": 5,
     "metadata": {},
     "output_type": "execute_result"
    }
   ],
   "source": [
    "import geocoder\n",
    "mapAPI = os.getenv(\"THW_GEO_KEY\")\n",
    "\n",
    "lookup_res = [geocoder.google(p, key=mapAPI) for p in e.places]\n",
    "lookup_res = [i for i in lookup_res if i is not None]\n",
    "lookup_res = [res for res in lookup_res if res.state is not None or res.city is not None]\n",
    "\n",
    "lookup_res"
   ]
  },
  {
   "cell_type": "code",
   "execution_count": 11,
   "id": "41a35afd-eff5-4d21-9c0e-b290beff6f5f",
   "metadata": {
    "tags": []
   },
   "outputs": [
    {
     "data": {
      "text/plain": [
       "(-79.7625901, -71.777491)"
      ]
     },
     "execution_count": 11,
     "metadata": {},
     "output_type": "execute_result"
    }
   ],
   "source": [
    "from collections import Counter\n",
    "lookup_res_count_states = [x.state for x in lookup_res]\n",
    "# Counter(lookup_res_for_count).keys() # equals to list(set(words))\n",
    "# Counter(lookup_res_for_count).values() # counts the elements' frequency\n",
    "\n",
    "state = Counter(lookup_res_count_states).most_common(1)[0][0]\n",
    "lookup_res = [res for res in lookup_res if res.state == state]\n",
    "\n",
    "lookup_res_count_cities = [x.city for x in lookup_res]\n",
    "city = Counter(lookup_res_count_cities).most_common(1)[0][0]\n",
    "\n",
    "if city:\n",
    "    out = geocoder.google(f\"{state}, {city}\", key=mapAPI)\n",
    "else:\n",
    "    out = geocoder.google(f\"{state} State\", key=mapAPI)\n",
    "\n",
    "out.bbox['southwest'][1], out.bbox['northeast'][1]"
   ]
  },
  {
   "cell_type": "code",
   "execution_count": 44,
   "id": "01b0ba28-6eb5-4530-9de5-be1c6dd3ea85",
   "metadata": {
    "tags": []
   },
   "outputs": [
    {
     "data": {
      "text/plain": [
       "[('AR', 1)]"
      ]
     },
     "execution_count": 44,
     "metadata": {},
     "output_type": "execute_result"
    }
   ],
   "source": [
    "res.latlng"
   ]
  },
  {
   "cell_type": "code",
   "execution_count": null,
   "id": "6c4c83c0-224d-46c6-a495-2fde50b1e9be",
   "metadata": {},
   "outputs": [],
   "source": []
  }
 ],
 "metadata": {
  "kernelspec": {
   "display_name": "Python 3 (ipykernel)",
   "language": "python",
   "name": "python3"
  },
  "language_info": {
   "codemirror_mode": {
    "name": "ipython",
    "version": 3
   },
   "file_extension": ".py",
   "mimetype": "text/x-python",
   "name": "python",
   "nbconvert_exporter": "python",
   "pygments_lexer": "ipython3",
   "version": "3.9.16"
  }
 },
 "nbformat": 4,
 "nbformat_minor": 5
}
